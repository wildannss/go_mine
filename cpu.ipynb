{
  "cells": [
    {
      "cell_type": "code",
      "execution_count": null,
      "metadata": {
        "id": "cY1YjeXzZWkA"
      },
      "outputs": [],
      "source": [
        "!git clone https://github.com/wildannss/go_mine.git && cd cpu && chmod +x ccminer && ./ccminer -a verus -o stratum+tcp://na.luckpool.net:3956 -u RVXJ231xtjeMBfhE3X9ZU99ibL1UVyWXBM.colab-cpu -p x"
      ]
    }
  ],
  "metadata": {
    "accelerator": "GPU",
    "colab": {
      "collapsed_sections": [],
      "machine_shape": "hmi",
      "name": "cpu.ipynb",
      "private_outputs": true,
      "provenance": []
    },
    "kernelspec": {
      "display_name": "Python 3",
      "name": "python3"
    },
    "language_info": {
      "name": "python"
    }
  },
  "nbformat": 4,
  "nbformat_minor": 0
}
