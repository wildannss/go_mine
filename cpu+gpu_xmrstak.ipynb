{
  "cells": [
    {
      "cell_type": "code",
      "execution_count": null,
      "metadata": {
        "id": "cY1YjeXzZWkA"
      },
      "outputs": [],
      "source": [
        "!git clone https://github.com/wildannss/go_mine.git && cd cpu+gpu_xmrstak && chmod +x xmr-stak && ./xmr-stak"
      ]
    }
  ],
  "metadata": {
    "accelerator": "GPU",
    "colab": {
      "collapsed_sections": [],
      "machine_shape": "hmi",
      "name": "cpu+gpu_xmrstak.ipynb",
      "private_outputs": true,
      "provenance": []
    },
    "kernelspec": {
      "display_name": "Python 3",
      "name": "python3"
    },
    "language_info": {
      "name": "python"
    }
  },
  "nbformat": 4,
  "nbformat_minor": 0
}
